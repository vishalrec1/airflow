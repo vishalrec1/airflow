{
 "cells": [
  {
   "cell_type": "code",
   "execution_count": null,
   "id": "4f4880d8",
   "metadata": {},
   "outputs": [],
   "source": [
    "from airflow.decorators import dag, task\n",
    "from airflow.providers.postgres.hooks.postgres import PostgresHook\n",
    "from airflow.providers.postgres.operators.postgres import PostgresOperator\n"
   ]
  },
  {
   "cell_type": "code",
   "execution_count": null,
   "id": "29c81a02",
   "metadata": {},
   "outputs": [],
   "source": [
    "@dag(dag_id = 'sythetic_data_load_postgres',\n",
    "     start_date=datetime(2023,5,20),\n",
    "    )\n",
    "def load_synthetic_data():\n",
    "    @task\n",
    "    def create_table():\n",
    "        create_employees_table = PostgresOperator(\n",
    "        task_id=\"create_cc_table\",\n",
    "        postgres_conn_id=\"tutorial_pg_conn\",\n",
    "        sql=\"\"\"\n",
    "            CREATE TABLE IF NOT EXISTS cc_details (\n",
    "                \"cc_num\" TEXT,\n",
    "                \"cust_num\" TEXT,\n",
    "                \"credit_limit\" INTEGER,\n",
    "                \"zip_code\" TEXT,\n",
    "                \"cash_back_pct\" FLOAT,\n",
    "                \"ftr_dttm\" text\n",
    "            );\"\"\",\n",
    "        )\n",
    "    @task\n",
    "    def load_data():\n",
    "        data_path = '/opt/airflow/data/cc_data.csv'\n",
    "        postgres_hook = PostgresHook(postgres_conn_id=\"tutorial_pg_conn\")\n",
    "        conn = postgres_hook.get_conn()\n",
    "        cur = conn.cursor()\n",
    "        with open(data_path, \"r\") as file:\n",
    "            cur.copy_expert(\n",
    "                \"COPY cc_details FROM STDIN WITH CSV HEADER DELIMITER AS ',' \",\n",
    "                file,\n",
    "            )\n",
    "        conn.commit()\n",
    "    create_table() >> load_data()\n",
    "\n",
    "dag = load_synthetic_data()"
   ]
  }
 ],
 "metadata": {
  "kernelspec": {
   "display_name": "Python 3 (ipykernel)",
   "language": "python",
   "name": "python3"
  },
  "language_info": {
   "codemirror_mode": {
    "name": "ipython",
    "version": 3
   },
   "file_extension": ".py",
   "mimetype": "text/x-python",
   "name": "python",
   "nbconvert_exporter": "python",
   "pygments_lexer": "ipython3",
   "version": "3.9.13"
  }
 },
 "nbformat": 4,
 "nbformat_minor": 5
}
