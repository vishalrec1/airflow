{
 "cells": [
  {
   "cell_type": "code",
   "execution_count": 1,
   "id": "ccd5f75c",
   "metadata": {},
   "outputs": [
    {
     "name": "stderr",
     "output_type": "stream",
     "text": [
      "WARNING:root:OSError while attempting to symlink the latest log directory\n"
     ]
    }
   ],
   "source": [
    "from airflow import DAG\n",
    "from airflow.operators.python import PythonOperator\n",
    "from datetime import datetime"
   ]
  },
  {
   "cell_type": "code",
   "execution_count": 2,
   "id": "a3ea112e",
   "metadata": {},
   "outputs": [],
   "source": [
    "dag = DAG(dag_id = 'synthetic_data_local',\n",
    "         )"
   ]
  },
  {
   "cell_type": "code",
   "execution_count": 47,
   "id": "e912b516",
   "metadata": {},
   "outputs": [],
   "source": [
    "def create_synthetic_data():\n",
    "    from faker import Faker\n",
    "    import os,datetime\n",
    "    fake = Faker()\n",
    "    path = 'D:\\\\airflow2.6\\\\'\n",
    "    file_name = 'cc_data.csv'\n",
    "    fl = open(path+file_name,'w')\n",
    "\n",
    "    #Creating the Synthetic Data and Storing it in the GCS Bucket\n",
    "    print(\"Start Time is : \",datetime.datetime.now().strftime(\"%Y-%m-%dT%H:%M:%SZ\"))\n",
    "    for n in range(100000):\n",
    "        if n==0:\n",
    "            header = 'cc_num,cust_num,credit_limit,zip_code,cash_back_pct,ftr_dttm\\n'\n",
    "            fl.write(header)\n",
    "        else:\n",
    "            cc_num        = fake.credit_card_number()\n",
    "            cust_num      = fake.uuid4()\n",
    "            credit_limit  = fake.numerify(text='%#000')\n",
    "            zip_code      = fake.zipcode_in_state()\n",
    "            cash_back_pct = fake.numerify(text='%.#')\n",
    "            ftr_dttm      = datetime.datetime.now().strftime(\"%Y-%m-%dT%H:%M:%SZ\")\n",
    "            cc_row        = cc_num+','+cust_num+','+credit_limit+','+zip_code+','+cash_back_pct+','+ftr_dttm+'\\n'\n",
    "            #print(cc_row)\n",
    "            fl.write(cc_row)\n",
    "    print(\"End Time is : \",datetime.datetime.now().strftime(\"%Y-%m-%dT%H:%M:%SZ\"))\n",
    "    fl.close()"
   ]
  },
  {
   "cell_type": "code",
   "execution_count": 48,
   "id": "3ca79918",
   "metadata": {},
   "outputs": [
    {
     "name": "stdout",
     "output_type": "stream",
     "text": [
      "Start Time is :  2023-05-21T12:07:18Z\n",
      "End Time is :  2023-05-21T12:07:25Z\n"
     ]
    }
   ],
   "source": [
    "create_synthetic_data()"
   ]
  },
  {
   "cell_type": "code",
   "execution_count": 49,
   "id": "8f2c9061",
   "metadata": {},
   "outputs": [],
   "source": [
    "def get_top_10_cc_consumer_loc():\n",
    "    import pandas as pd\n",
    "    path = 'D:\\\\airflow2.6\\\\'\n",
    "    file_name = 'cc_data.csv'\n",
    "    df = pd.read_csv(filepath_or_buffer = path+file_name)\n",
    "    df2 = df.groupby(by=['zip_code'],as_index='False')['zip_code'].count().reset_index(name='counts')\n",
    "    df2.to_csv(path_or_buf=path+'loc_agg.csv')"
   ]
  },
  {
   "cell_type": "code",
   "execution_count": 50,
   "id": "8af57823",
   "metadata": {},
   "outputs": [],
   "source": [
    "get_top_10_cc_consumer_loc()"
   ]
  },
  {
   "cell_type": "code",
   "execution_count": null,
   "id": "c6faf823",
   "metadata": {},
   "outputs": [],
   "source": []
  },
  {
   "cell_type": "code",
   "execution_count": null,
   "id": "58ed6854",
   "metadata": {},
   "outputs": [],
   "source": [
    "PythonOperator()"
   ]
  },
  {
   "cell_type": "code",
   "execution_count": null,
   "id": "0a728bdf",
   "metadata": {},
   "outputs": [],
   "source": []
  },
  {
   "cell_type": "code",
   "execution_count": null,
   "id": "22323bdc",
   "metadata": {},
   "outputs": [],
   "source": []
  },
  {
   "cell_type": "code",
   "execution_count": 15,
   "id": "5184d81b",
   "metadata": {},
   "outputs": [
    {
     "name": "stdout",
     "output_type": "stream",
     "text": [
      "[\u001b[34m2023-05-21 11:49:16,898\u001b[0m] {\u001b[34mutils.py:\u001b[0m148} INFO\u001b[0m - Note: NumExpr detected 20 cores but \"NUMEXPR_MAX_THREADS\" not set, so enforcing safe limit of 8.\u001b[0m\n",
      "[\u001b[34m2023-05-21 11:49:16,914\u001b[0m] {\u001b[34mutils.py:\u001b[0m160} INFO\u001b[0m - NumExpr defaulting to 8 threads.\u001b[0m\n"
     ]
    }
   ],
   "source": [
    "import pandas as pd"
   ]
  },
  {
   "cell_type": "code",
   "execution_count": 17,
   "id": "167ffd85",
   "metadata": {},
   "outputs": [],
   "source": [
    "path = 'D:\\\\airflow2.6\\\\'\n",
    "file_name = 'cc_data.csv'\n",
    "df = pd.read_csv(filepath_or_buffer = path+file_name,                \n",
    "                )"
   ]
  },
  {
   "cell_type": "code",
   "execution_count": 25,
   "id": "9c78c32f",
   "metadata": {},
   "outputs": [
    {
     "data": {
      "text/html": [
       "<div>\n",
       "<style scoped>\n",
       "    .dataframe tbody tr th:only-of-type {\n",
       "        vertical-align: middle;\n",
       "    }\n",
       "\n",
       "    .dataframe tbody tr th {\n",
       "        vertical-align: top;\n",
       "    }\n",
       "\n",
       "    .dataframe thead th {\n",
       "        text-align: right;\n",
       "    }\n",
       "</style>\n",
       "<table border=\"1\" class=\"dataframe\">\n",
       "  <thead>\n",
       "    <tr style=\"text-align: right;\">\n",
       "      <th></th>\n",
       "      <th>cc_num</th>\n",
       "      <th>cust_num</th>\n",
       "      <th>credit_limit</th>\n",
       "      <th>zip_code</th>\n",
       "      <th>cash_back_pct</th>\n",
       "      <th>ftr_dttm</th>\n",
       "    </tr>\n",
       "  </thead>\n",
       "  <tbody>\n",
       "    <tr>\n",
       "      <th>0</th>\n",
       "      <td>213111830443063</td>\n",
       "      <td>0ca2d631-04f4-4fda-9520-2249aa99934d</td>\n",
       "      <td>18000</td>\n",
       "      <td>95592</td>\n",
       "      <td>2.5</td>\n",
       "      <td>2023-05-21T11:48:19Z</td>\n",
       "    </tr>\n",
       "    <tr>\n",
       "      <th>1</th>\n",
       "      <td>2229061089235595</td>\n",
       "      <td>250d916b-4dd0-4ec1-9569-754f77c8fe13</td>\n",
       "      <td>70000</td>\n",
       "      <td>4967</td>\n",
       "      <td>6.5</td>\n",
       "      <td>2023-05-21T11:48:19Z</td>\n",
       "    </tr>\n",
       "    <tr>\n",
       "      <th>2</th>\n",
       "      <td>346498488554667</td>\n",
       "      <td>05a94f47-e3bd-4df0-85f8-f63452c8b1f5</td>\n",
       "      <td>87000</td>\n",
       "      <td>59558</td>\n",
       "      <td>8.7</td>\n",
       "      <td>2023-05-21T11:48:19Z</td>\n",
       "    </tr>\n",
       "    <tr>\n",
       "      <th>3</th>\n",
       "      <td>4145745653729150</td>\n",
       "      <td>b593c1d8-9414-46eb-b0d6-f804b50791c8</td>\n",
       "      <td>73000</td>\n",
       "      <td>76617</td>\n",
       "      <td>3.0</td>\n",
       "      <td>2023-05-21T11:48:19Z</td>\n",
       "    </tr>\n",
       "    <tr>\n",
       "      <th>4</th>\n",
       "      <td>4575895322211061588</td>\n",
       "      <td>40f613bb-377b-4d6b-8c31-085ff18ce6ec</td>\n",
       "      <td>60000</td>\n",
       "      <td>98589</td>\n",
       "      <td>8.2</td>\n",
       "      <td>2023-05-21T11:48:19Z</td>\n",
       "    </tr>\n",
       "    <tr>\n",
       "      <th>...</th>\n",
       "      <td>...</td>\n",
       "      <td>...</td>\n",
       "      <td>...</td>\n",
       "      <td>...</td>\n",
       "      <td>...</td>\n",
       "      <td>...</td>\n",
       "    </tr>\n",
       "    <tr>\n",
       "      <th>99994</th>\n",
       "      <td>676328887481</td>\n",
       "      <td>38ef1401-33cf-4918-bb18-32d7651aeb9e</td>\n",
       "      <td>33000</td>\n",
       "      <td>2522</td>\n",
       "      <td>8.5</td>\n",
       "      <td>2023-05-21T11:48:26Z</td>\n",
       "    </tr>\n",
       "    <tr>\n",
       "      <th>99995</th>\n",
       "      <td>3512468105517746</td>\n",
       "      <td>88950384-6403-450b-be27-d0d91832cea0</td>\n",
       "      <td>26000</td>\n",
       "      <td>74618</td>\n",
       "      <td>4.0</td>\n",
       "      <td>2023-05-21T11:48:26Z</td>\n",
       "    </tr>\n",
       "    <tr>\n",
       "      <th>99996</th>\n",
       "      <td>4266687856302520752</td>\n",
       "      <td>6832313b-f471-4a5c-8f54-bf5d658d8ef9</td>\n",
       "      <td>43000</td>\n",
       "      <td>94922</td>\n",
       "      <td>5.9</td>\n",
       "      <td>2023-05-21T11:48:26Z</td>\n",
       "    </tr>\n",
       "    <tr>\n",
       "      <th>99997</th>\n",
       "      <td>180099773867852</td>\n",
       "      <td>e701b4fc-f8e7-424a-b6e1-d403f58def47</td>\n",
       "      <td>99000</td>\n",
       "      <td>84891</td>\n",
       "      <td>5.5</td>\n",
       "      <td>2023-05-21T11:48:26Z</td>\n",
       "    </tr>\n",
       "    <tr>\n",
       "      <th>99998</th>\n",
       "      <td>4069929249537045736</td>\n",
       "      <td>392eea83-832a-4dad-b319-c01dc89f9ba5</td>\n",
       "      <td>56000</td>\n",
       "      <td>76710</td>\n",
       "      <td>9.9</td>\n",
       "      <td>2023-05-21T11:48:26Z</td>\n",
       "    </tr>\n",
       "  </tbody>\n",
       "</table>\n",
       "<p>99999 rows × 6 columns</p>\n",
       "</div>"
      ],
      "text/plain": [
       "                    cc_num                              cust_num  \\\n",
       "0          213111830443063  0ca2d631-04f4-4fda-9520-2249aa99934d   \n",
       "1         2229061089235595  250d916b-4dd0-4ec1-9569-754f77c8fe13   \n",
       "2          346498488554667  05a94f47-e3bd-4df0-85f8-f63452c8b1f5   \n",
       "3         4145745653729150  b593c1d8-9414-46eb-b0d6-f804b50791c8   \n",
       "4      4575895322211061588  40f613bb-377b-4d6b-8c31-085ff18ce6ec   \n",
       "...                    ...                                   ...   \n",
       "99994         676328887481  38ef1401-33cf-4918-bb18-32d7651aeb9e   \n",
       "99995     3512468105517746  88950384-6403-450b-be27-d0d91832cea0   \n",
       "99996  4266687856302520752  6832313b-f471-4a5c-8f54-bf5d658d8ef9   \n",
       "99997      180099773867852  e701b4fc-f8e7-424a-b6e1-d403f58def47   \n",
       "99998  4069929249537045736  392eea83-832a-4dad-b319-c01dc89f9ba5   \n",
       "\n",
       "       credit_limit  zip_code  cash_back_pct              ftr_dttm  \n",
       "0             18000     95592            2.5  2023-05-21T11:48:19Z  \n",
       "1             70000      4967            6.5  2023-05-21T11:48:19Z  \n",
       "2             87000     59558            8.7  2023-05-21T11:48:19Z  \n",
       "3             73000     76617            3.0  2023-05-21T11:48:19Z  \n",
       "4             60000     98589            8.2  2023-05-21T11:48:19Z  \n",
       "...             ...       ...            ...                   ...  \n",
       "99994         33000      2522            8.5  2023-05-21T11:48:26Z  \n",
       "99995         26000     74618            4.0  2023-05-21T11:48:26Z  \n",
       "99996         43000     94922            5.9  2023-05-21T11:48:26Z  \n",
       "99997         99000     84891            5.5  2023-05-21T11:48:26Z  \n",
       "99998         56000     76710            9.9  2023-05-21T11:48:26Z  \n",
       "\n",
       "[99999 rows x 6 columns]"
      ]
     },
     "execution_count": 25,
     "metadata": {},
     "output_type": "execute_result"
    }
   ],
   "source": [
    "df"
   ]
  },
  {
   "cell_type": "code",
   "execution_count": 30,
   "id": "a8bb7ca3",
   "metadata": {},
   "outputs": [],
   "source": [
    "df2 = df.groupby(by=['zip_code'],as_index='False')['zip_code'].count().reset_index(name='counts')"
   ]
  },
  {
   "cell_type": "code",
   "execution_count": 32,
   "id": "14883331",
   "metadata": {},
   "outputs": [],
   "source": [
    "df2.to_csv(path_or_buf=path+'loc_agg.csv')"
   ]
  },
  {
   "cell_type": "code",
   "execution_count": null,
   "id": "41a7489d",
   "metadata": {},
   "outputs": [],
   "source": []
  }
 ],
 "metadata": {
  "kernelspec": {
   "display_name": "Python 3 (ipykernel)",
   "language": "python",
   "name": "python3"
  },
  "language_info": {
   "codemirror_mode": {
    "name": "ipython",
    "version": 3
   },
   "file_extension": ".py",
   "mimetype": "text/x-python",
   "name": "python",
   "nbconvert_exporter": "python",
   "pygments_lexer": "ipython3",
   "version": "3.9.13"
  }
 },
 "nbformat": 4,
 "nbformat_minor": 5
}
