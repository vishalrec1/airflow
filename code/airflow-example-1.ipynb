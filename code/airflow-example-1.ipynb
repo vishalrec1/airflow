{
 "cells": [
  {
   "cell_type": "code",
   "execution_count": 7,
   "id": "e183172e",
   "metadata": {},
   "outputs": [
    {
     "name": "stderr",
     "output_type": "stream",
     "text": [
      "WARNING:root:OSError while attempting to symlink the latest log directory\n"
     ]
    }
   ],
   "source": [
    "import airflow\n",
    "from airflow import DAG\n",
    "from datetime import datetime\n",
    "import os"
   ]
  },
  {
   "cell_type": "code",
   "execution_count": 12,
   "id": "cbdd14ca",
   "metadata": {},
   "outputs": [],
   "source": [
    "from airflow.operators.python import PythonOperator"
   ]
  },
  {
   "cell_type": "code",
   "execution_count": 53,
   "id": "7f3d3673",
   "metadata": {},
   "outputs": [],
   "source": [
    "dag_path = os.getcwd()"
   ]
  },
  {
   "cell_type": "code",
   "execution_count": 3,
   "id": "e77db251",
   "metadata": {},
   "outputs": [],
   "source": [
    "dag = DAG(dag_id='synthetic_data',\n",
    "          start_date=datetime(2023,3,12),\n",
    "          schedule='*/1 * * * *'\n",
    "         )"
   ]
  },
  {
   "cell_type": "code",
   "execution_count": 7,
   "id": "59a8d25f",
   "metadata": {},
   "outputs": [
    {
     "data": {
      "text/html": [
       "<pre style=\"white-space:pre;overflow-x:auto;line-height:normal;font-family:Menlo,'DejaVu Sans Mono',consolas,'Courier New',monospace\"><span style=\"color: #808000; text-decoration-color: #808000; font-weight: bold\">C:\\Users\\visha\\AppData\\Local\\Temp\\ipykernel_10028\\</span><span style=\"color: #808000; text-decoration-color: #808000; font-weight: bold\">3582464681.</span><span style=\"color: #808000; text-decoration-color: #808000; font-weight: bold\">py:</span><span style=\"color: #808000; text-decoration-color: #808000; font-weight: bold\">1</span><span style=\"color: #808000; text-decoration-color: #808000; font-weight: bold\"> RemovedInAirflow3Warning</span><span style=\"color: #808000; text-decoration-color: #808000\">: filepath is deprecated, use relative_fileloc instead</span>\n",
       "</pre>\n"
      ],
      "text/plain": [
       "\u001b[1;33mC:\\Users\\visha\\AppData\\Local\\Temp\\ipykernel_10028\\\u001b[0m\u001b[1;33m3582464681.\u001b[0m\u001b[1;33mpy:\u001b[0m\u001b[1;33m1\u001b[0m\u001b[1;33m RemovedInAirflow3Warning\u001b[0m\u001b[33m: filepath is deprecated, use relative_fileloc instead\u001b[0m\n"
      ]
     },
     "metadata": {},
     "output_type": "display_data"
    },
    {
     "data": {
      "text/plain": [
       "'C:\\\\Users\\\\visha\\\\AppData\\\\Local\\\\Temp\\\\ipykernel_10028\\\\3030468319.py'"
      ]
     },
     "execution_count": 7,
     "metadata": {},
     "output_type": "execute_result"
    }
   ],
   "source": [
    "dag.filepath"
   ]
  },
  {
   "cell_type": "code",
   "execution_count": 11,
   "id": "fff350d3",
   "metadata": {},
   "outputs": [],
   "source": [
    "def create_synthetic_data():\n",
    "    from faker import Faker\n",
    "    from google.cloud import storage\n",
    "    from google.cloud import aiplatform\n",
    "    import os,datetime\n",
    "\n",
    "    os.environ['GOOGLE_APPLICATION_CREDENTIALS']= \"L:\\\\gcp-learning-feb-2023-5e0385a3a263.json\"\n",
    "\n",
    "    PROJECT_ID = \"gcp-learning-feb-2023\"\n",
    "    REGION     = 'us-central1'\n",
    "    BUCKET     = 'gcp-bucket-19feb2023'\n",
    "    BUCKET_URI = 'gs://gcp-bucket-19feb2023/apache_airflow'\n",
    "\n",
    "    fake = Faker()\n",
    "    storage_client = storage.Client(project=PROJECT_ID)\n",
    "    bucket = storage_client.bucket(bucket_name=BUCKET)\n",
    "    blob = bucket.blob('feature-store-data/cc_data.csv')\n",
    "    #Creating the Synthetic Data and Storing it in the GCS Bucket\n",
    "    with blob.open(mode='w') as fl:\n",
    "        print(\"Start Time is : \",datetime.datetime.now().strftime(\"%Y-%m-%dT%H:%M:%SZ\"))\n",
    "        for n in range(1000000):\n",
    "            if n==0:\n",
    "                header = 'cc_num,cust_num,credit_limit,zip_code,cash_back_pct,ftr_dttm\\n'\n",
    "                fl.write(header)\n",
    "            else:\n",
    "                cc_num        = fake.credit_card_number()\n",
    "                cust_num      = fake.uuid4()\n",
    "                credit_limit  = fake.numerify(text='%#000')\n",
    "                zip_code      = fake.zipcode()\n",
    "                cash_back_pct = fake.numerify(text='%.#')\n",
    "                ftr_dttm      = datetime.datetime.now().strftime(\"%Y-%m-%dT%H:%M:%SZ\")\n",
    "                cc_row        = cc_num+','+cust_num+','+credit_limit+','+zip_code+','+cash_back_pct+','+ftr_dttm+'\\n'\n",
    "                #print(cc_row)\n",
    "                fl.write(cc_row)\n",
    "        print(\"End Time is : \",datetime.datetime.now().strftime(\"%Y-%m-%dT%H:%M:%SZ\"))    "
   ]
  },
  {
   "cell_type": "code",
   "execution_count": null,
   "id": "8c4e03fa",
   "metadata": {},
   "outputs": [],
   "source": [
    "def load_csv_to_bq():\n",
    "    "
   ]
  },
  {
   "cell_type": "code",
   "execution_count": 12,
   "id": "e9208ff1",
   "metadata": {},
   "outputs": [],
   "source": [
    "def create_instance_list():\n",
    "    from google.cloud import storage\n",
    "    import os\n",
    "    import pandas as pd\n",
    "    os.environ['GOOGLE_APPLICATION_CREDENTIALS']= \"L:\\\\gcp-learning-feb-2023-5e0385a3a263.json\"\n",
    "    PROJECT_ID = \"gcp-learning-feb-2023\"\n",
    "    REGION     = 'us-central1'\n",
    "    BUCKET     = 'gcp-bucket-19feb2023'\n",
    "    BUCKET_URI = 'gs://gcp-bucket-19feb2023/apache_airflow'\n",
    "    storage_client = storage.Client(project=PROJECT_ID)\n",
    "    bucket = storage_client.bucket(bucket_name=BUCKET)\n",
    "    blob = bucket.blob('apache_airflow/cc_data.csv')\n",
    "    blob.download_to_filename('cc_data_from_gcs.csv')\n",
    "    df = pd.read_csv('cc_data_from_gcs.csv',dtype={'cc_num':'str'})\n",
    "    df2 = df[['cc_num','ftr_dttm']]\n",
    "    #Created Read Instance List for Batch Serving to BQ\n",
    "    df2.to_csv('cc_read_instance_list.csv',index=False,header=['creditcard_dtl','timestamp'])\n",
    "    blob2 = bucket.blob('feature-store-data/cc_read_instance_list.csv')\n",
    "    #Uploaded Read Instance Lst to GCS Bucket\n",
    "    blob2.upload_from_filename('cc_read_instance_list.csv')"
   ]
  },
  {
   "cell_type": "code",
   "execution_count": 13,
   "id": "ded5b306",
   "metadata": {},
   "outputs": [],
   "source": [
    "create_synthetic_data = PythonOperator(task_id='create_synthetic_data',\n",
    "                                       dag=dag,\n",
    "                                       python_callable=create_synthetic_data\n",
    "                                      )"
   ]
  },
  {
   "cell_type": "code",
   "execution_count": 14,
   "id": "b965fb4e",
   "metadata": {},
   "outputs": [],
   "source": [
    "create_instance_list = PythonOperator(task_id='create_instance_list',\n",
    "                                      dag=dag,\n",
    "                                      python_callable=create_instance_list\n",
    "                                     )"
   ]
  },
  {
   "cell_type": "code",
   "execution_count": 15,
   "id": "8b21b7b2",
   "metadata": {},
   "outputs": [
    {
     "data": {
      "text/plain": [
       "<Task(PythonOperator): create_instance_list>"
      ]
     },
     "execution_count": 15,
     "metadata": {},
     "output_type": "execute_result"
    }
   ],
   "source": [
    "create_synthetic_data >> create_instance_list"
   ]
  },
  {
   "cell_type": "code",
   "execution_count": null,
   "id": "d95059d5",
   "metadata": {},
   "outputs": [],
   "source": [
    "######################################################################################################"
   ]
  },
  {
   "cell_type": "code",
   "execution_count": 1,
   "id": "e6d04750",
   "metadata": {},
   "outputs": [],
   "source": [
    "import json"
   ]
  },
  {
   "cell_type": "code",
   "execution_count": 3,
   "id": "9ac834f5",
   "metadata": {},
   "outputs": [],
   "source": [
    "fl = open('D:\\\\Airflow_Docker\\\\gcp_basic_details.json','r')"
   ]
  },
  {
   "cell_type": "code",
   "execution_count": 4,
   "id": "de3f58b0",
   "metadata": {},
   "outputs": [],
   "source": [
    "df = json.load(fl)"
   ]
  },
  {
   "cell_type": "code",
   "execution_count": 6,
   "id": "a3a9821d",
   "metadata": {},
   "outputs": [
    {
     "data": {
      "text/plain": [
       "'gcp-learning-feb-2023'"
      ]
     },
     "execution_count": 6,
     "metadata": {},
     "output_type": "execute_result"
    }
   ],
   "source": [
    "df['PROJECT_ID']"
   ]
  },
  {
   "cell_type": "code",
   "execution_count": 10,
   "id": "ed9de6e8",
   "metadata": {},
   "outputs": [],
   "source": [
    "def read_json(ti):\n",
    "    fl = open('D:\\\\Airflow_Docker\\\\gcp_basic_details.json','r')\n",
    "    df = json.load(fl)\n",
    "    ti.xcom_push(key=\"PROJECT_ID\",value=df['PROJECT_ID'])\n",
    "    ti.xcom_push(key=\"BUCKET\",value=df['BUCKET'])"
   ]
  },
  {
   "cell_type": "code",
   "execution_count": 11,
   "id": "f4d947e5",
   "metadata": {},
   "outputs": [],
   "source": [
    "def display_json(ti):\n",
    "    PROJECT_ID = ti.xcom_pull(key=\"PROJECT_ID\",task_ids=\"read_json\")\n",
    "    BUCKET = ti.xcom_pull(key=\"BUCKET\",task_ids=\"read_json\")\n",
    "    print(PROJECT_ID +'/'+BUCKET)"
   ]
  },
  {
   "cell_type": "code",
   "execution_count": 13,
   "id": "8950c045",
   "metadata": {},
   "outputs": [],
   "source": [
    "with open('abc.txt',mode='w') as fl:\n",
    "    header = 'cc_num,cust_num,credit_limit,zip_code,cash_back_pct,ftr_dttm\\n'\n",
    "    fl.write(header)\n",
    "        "
   ]
  },
  {
   "cell_type": "code",
   "execution_count": null,
   "id": "af063ddb",
   "metadata": {},
   "outputs": [],
   "source": []
  },
  {
   "cell_type": "code",
   "execution_count": null,
   "id": "10748c43",
   "metadata": {},
   "outputs": [],
   "source": []
  },
  {
   "cell_type": "code",
   "execution_count": null,
   "id": "1169b027",
   "metadata": {},
   "outputs": [],
   "source": [
    "pip list"
   ]
  },
  {
   "cell_type": "code",
   "execution_count": 9,
   "id": "a5cec705",
   "metadata": {},
   "outputs": [],
   "source": [
    "import faker"
   ]
  },
  {
   "cell_type": "code",
   "execution_count": 10,
   "id": "ad6bf74f",
   "metadata": {},
   "outputs": [
    {
     "ename": "ModuleNotFoundError",
     "evalue": "No module named 'Faker'",
     "output_type": "error",
     "traceback": [
      "\u001b[1;31m---------------------------------------------------------------------------\u001b[0m",
      "\u001b[1;31mModuleNotFoundError\u001b[0m                       Traceback (most recent call last)",
      "Cell \u001b[1;32mIn[10], line 1\u001b[0m\n\u001b[1;32m----> 1\u001b[0m \u001b[38;5;28;01mimport\u001b[39;00m \u001b[38;5;21;01mFaker\u001b[39;00m\n",
      "\u001b[1;31mModuleNotFoundError\u001b[0m: No module named 'Faker'"
     ]
    }
   ],
   "source": [
    "import Faker"
   ]
  },
  {
   "cell_type": "code",
   "execution_count": 11,
   "id": "19ac535f",
   "metadata": {},
   "outputs": [
    {
     "name": "stdout",
     "output_type": "stream",
     "text": [
      "Requirement already satisfied: Faker in d:\\anaconda3\\lib\\site-packages (15.3.4)\n",
      "Requirement already satisfied: python-dateutil>=2.4 in d:\\anaconda3\\lib\\site-packages (from Faker) (2.8.2)\n",
      "Requirement already satisfied: six>=1.5 in d:\\anaconda3\\lib\\site-packages (from python-dateutil>=2.4->Faker) (1.16.0)\n",
      "Note: you may need to restart the kernel to use updated packages.\n"
     ]
    }
   ],
   "source": [
    "pip install Faker"
   ]
  },
  {
   "cell_type": "code",
   "execution_count": 12,
   "id": "edaa5073",
   "metadata": {},
   "outputs": [
    {
     "name": "stdout",
     "output_type": "stream",
     "text": [
      "Collecting google-cloud\n",
      "  Downloading google_cloud-0.34.0-py2.py3-none-any.whl (1.8 kB)\n",
      "Installing collected packages: google-cloud\n",
      "Successfully installed google-cloud-0.34.0\n",
      "Note: you may need to restart the kernel to use updated packages.\n"
     ]
    }
   ],
   "source": [
    "pip install google-cloud"
   ]
  },
  {
   "cell_type": "code",
   "execution_count": null,
   "id": "8163a44a",
   "metadata": {},
   "outputs": [],
   "source": []
  }
 ],
 "metadata": {
  "kernelspec": {
   "display_name": "Python 3 (ipykernel)",
   "language": "python",
   "name": "python3"
  },
  "language_info": {
   "codemirror_mode": {
    "name": "ipython",
    "version": 3
   },
   "file_extension": ".py",
   "mimetype": "text/x-python",
   "name": "python",
   "nbconvert_exporter": "python",
   "pygments_lexer": "ipython3",
   "version": "3.9.13"
  }
 },
 "nbformat": 4,
 "nbformat_minor": 5
}
