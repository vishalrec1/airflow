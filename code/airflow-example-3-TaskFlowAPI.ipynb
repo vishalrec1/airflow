{
 "cells": [
  {
   "cell_type": "code",
   "execution_count": null,
   "id": "5d32151f",
   "metadata": {},
   "outputs": [],
   "source": [
    "#Source : https://airflow.apache.org/docs/apache-airflow/stable/tutorial/taskflow.html"
   ]
  },
  {
   "cell_type": "code",
   "execution_count": 18,
   "id": "3a80efa7",
   "metadata": {},
   "outputs": [],
   "source": [
    "from airflow.decorators import dag, task\n",
    "from datetime import datetime\n",
    "import json"
   ]
  },
  {
   "cell_type": "code",
   "execution_count": null,
   "id": "d55ed7db",
   "metadata": {},
   "outputs": [],
   "source": [
    "@dag(dag_id='taskFlowAPI-example',\n",
    "     description = 'Trying TaskFlow API.Source : https://airflow.apache.org/docs/apache-airflow/stable/tutorial/taskflow.html ',\n",
    "     start_date=datetime(2023,1,1),\n",
    "     schedule=None,\n",
    "     catchup=False,\n",
    "     tags=['TaskFlowAPI']\n",
    "    )\n",
    "def tutorial_taskflow_api():\n",
    "    \"\"\"\n",
    "    ### TaskFlow API Tutorial Documentation\n",
    "    This is a simple data pipeline example which demonstrates the use of\n",
    "    the TaskFlow API using three simple tasks for Extract, Transform, and Load.\n",
    "    Documentation that goes along with the Airflow TaskFlow API tutorial is\n",
    "    located\n",
    "    [here](https://airflow.apache.org/docs/apache-airflow/stable/tutorial_taskflow_api.html)\n",
    "    \"\"\"\n",
    "    @task()\n",
    "    def extract():\n",
    "        \"\"\"\n",
    "        #### Extract task\n",
    "        A simple Extract task to get data ready for the rest of the data\n",
    "        pipeline. In this case, getting data is simulated by reading from a\n",
    "        hardcoded JSON string.\n",
    "        \"\"\"\n",
    "        data_string = '{\"1001\": 301.27, \"1002\": 433.21, \"1003\": 502.22}'\n",
    "        order_data_dict = json.loads(data_string)\n",
    "        return order_data_dict\n",
    "    \n",
    "    @task(multiple_outputs=True)\n",
    "    def transform(order_data_dict: dict):\n",
    "        \"\"\"\n",
    "        #### Transform task\n",
    "        A simple Transform task which takes in the collection of order data and\n",
    "        computes the total order value.\n",
    "        \"\"\"\n",
    "        total_order_value = 0\n",
    "\n",
    "        for value in order_data_dict.values():\n",
    "            total_order_value += value\n",
    "\n",
    "        return {\"total_order_value\": total_order_value}\n",
    "\n",
    "    @task()\n",
    "    def load(total_order_value: float):\n",
    "        \"\"\"\n",
    "        #### Load task\n",
    "        A simple Load task which takes in the result of the Transform task and\n",
    "        instead of saving it to end user review, just prints it out.\n",
    "        \"\"\"\n",
    "\n",
    "        print(f\"Total order value is: {total_order_value:.2f}\")\n",
    "\n",
    "    order_data = extract()\n",
    "    order_summary = transform(order_data)\n",
    "    load(order_summary[\"total_order_value\"])"
   ]
  },
  {
   "cell_type": "code",
   "execution_count": null,
   "id": "e2ed1cea",
   "metadata": {},
   "outputs": [],
   "source": []
  },
  {
   "cell_type": "code",
   "execution_count": 16,
   "id": "fd878676",
   "metadata": {},
   "outputs": [],
   "source": [
    "def functions():\n",
    "    def a():\n",
    "        print('This is Function A')\n",
    "    def b():\n",
    "        print('This is Function B')\n",
    "    a()\n",
    "    b()"
   ]
  },
  {
   "cell_type": "code",
   "execution_count": 17,
   "id": "287f3ac4",
   "metadata": {},
   "outputs": [
    {
     "name": "stdout",
     "output_type": "stream",
     "text": [
      "This is Function A\n",
      "This is Function B\n"
     ]
    }
   ],
   "source": [
    "functions()"
   ]
  },
  {
   "cell_type": "code",
   "execution_count": 14,
   "id": "85711f5d",
   "metadata": {},
   "outputs": [
    {
     "name": "stdout",
     "output_type": "stream",
     "text": [
      "This is Function A\n"
     ]
    }
   ],
   "source": [
    "if __name__ == '__main__':\n",
    "    functions()"
   ]
  },
  {
   "cell_type": "code",
   "execution_count": 11,
   "id": "e9f259bf",
   "metadata": {},
   "outputs": [],
   "source": [
    "def f1():\n",
    "    s = 'I love GeeksforGeeks'\n",
    "      \n",
    "    def f2():\n",
    "        s = 'Me too'\n",
    "        print(s)\n",
    "          \n",
    "    f2()\n",
    "    print(s)"
   ]
  },
  {
   "cell_type": "code",
   "execution_count": 12,
   "id": "d6d14037",
   "metadata": {},
   "outputs": [
    {
     "name": "stdout",
     "output_type": "stream",
     "text": [
      "Me too\n",
      "I love GeeksforGeeks\n"
     ]
    }
   ],
   "source": [
    "f1()"
   ]
  },
  {
   "cell_type": "code",
   "execution_count": null,
   "id": "82eb92f6",
   "metadata": {},
   "outputs": [],
   "source": []
  }
 ],
 "metadata": {
  "kernelspec": {
   "display_name": "Python 3 (ipykernel)",
   "language": "python",
   "name": "python3"
  },
  "language_info": {
   "codemirror_mode": {
    "name": "ipython",
    "version": 3
   },
   "file_extension": ".py",
   "mimetype": "text/x-python",
   "name": "python",
   "nbconvert_exporter": "python",
   "pygments_lexer": "ipython3",
   "version": "3.9.13"
  }
 },
 "nbformat": 4,
 "nbformat_minor": 5
}
