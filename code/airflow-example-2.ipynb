{
 "cells": [
  {
   "cell_type": "code",
   "execution_count": 4,
   "id": "5c25baba",
   "metadata": {},
   "outputs": [],
   "source": [
    "# Source  : https://airflow.apache.org/docs/apache-airflow/stable/tutorial/fundamentals.html"
   ]
  },
  {
   "cell_type": "code",
   "execution_count": 5,
   "id": "20fb9c8d",
   "metadata": {},
   "outputs": [],
   "source": [
    "from airflow import DAG\n",
    "from airflow.operators.bash import BashOperator\n",
    "from datetime import datetime, timedelta"
   ]
  },
  {
   "cell_type": "code",
   "execution_count": 8,
   "id": "30a671ca",
   "metadata": {},
   "outputs": [],
   "source": [
    "from textwrap import dedent"
   ]
  },
  {
   "cell_type": "code",
   "execution_count": 10,
   "id": "c8c3e2d8",
   "metadata": {},
   "outputs": [],
   "source": [
    "with DAG(dag_id='example-2',\n",
    "         start_date = datetime(2021,1,1),\n",
    "         schedule = None,\n",
    "         description = 'This is an example from https://airflow.apache.org/docs/apache-airflow/stable/tutorial/fundamentals.html',\n",
    "         catchup=False,\n",
    "         tags=['example'],\n",
    "         default_args={ \"depends_on_past\": False,\n",
    "                        \"email\": [\"airflow@example.com\"],\n",
    "                        \"email_on_failure\": False,\n",
    "                        \"email_on_retry\": False,\n",
    "                        \"retries\": 1,\"retry_delay\": timedelta(minutes=5)\n",
    "                      }\n",
    "        ) as dag:\n",
    "    t1 = BashOperator(task_id='print_date',\n",
    "                      bash_command='date')\n",
    "    t2 = BashOperator(task_id=\"sleep\",bash_command=\"sleep 5\",)\n",
    "    t1.doc_md = dedent('''\n",
    "        You can document your task using the attributes `doc_md` (markdown),`doc` (plain text), `doc_rst`, `doc_json`, `doc_yaml` which gets\n",
    "    rendered in the UI's Task Instance Details page.\n",
    "    ![img](http://montcs.bloomu.edu/~bobmon/Semesters/2012-01/491/import%20soul.png)\n",
    "    **Image Credit:** Randall Munroe, [XKCD](https://xkcd.com/license.html)\n",
    "    ''')\n",
    "    dag.doc_md = __doc__\n",
    "    templated_command = dedent(\n",
    "        \"\"\"\n",
    "    {% for i in range(5) %}\n",
    "        echo \"{{ ds }}\"\n",
    "        echo \"{{ macros.ds_add(ds, 7)}}\"\n",
    "    {% endfor %}\n",
    "    \"\"\"\n",
    "    )\n",
    "    t3 = BashOperator(\n",
    "        task_id=\"templated\",\n",
    "        depends_on_past=False,\n",
    "        bash_command=templated_command,\n",
    "    )\n",
    "    t1 >> [t2, t3]"
   ]
  },
  {
   "cell_type": "code",
   "execution_count": null,
   "id": "346235ed",
   "metadata": {},
   "outputs": [],
   "source": []
  }
 ],
 "metadata": {
  "kernelspec": {
   "display_name": "Python 3 (ipykernel)",
   "language": "python",
   "name": "python3"
  },
  "language_info": {
   "codemirror_mode": {
    "name": "ipython",
    "version": 3
   },
   "file_extension": ".py",
   "mimetype": "text/x-python",
   "name": "python",
   "nbconvert_exporter": "python",
   "pygments_lexer": "ipython3",
   "version": "3.9.13"
  }
 },
 "nbformat": 4,
 "nbformat_minor": 5
}
